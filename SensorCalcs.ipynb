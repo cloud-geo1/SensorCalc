{
 "cells": [
  {
   "cell_type": "markdown",
   "metadata": {},
   "source": [
    "# Sensor FOV and Swath Calculator\n",
    "### Copyright 2018, Augmntr Inc.\n",
    "### License permission granted to Ron Chapple / Aerial Filmworks and associated companies only\n",
    "\n",
    "The unit of AGL is unspecified, so all results will be in that same unit"
   ]
  },
  {
   "cell_type": "code",
   "execution_count": 1,
   "metadata": {},
   "outputs": [
    {
     "data": {
      "application/javascript": [
       "IPython.OutputArea.prototype._should_scroll = function(lines) {\n",
       "    return false;\n",
       "}"
      ],
      "text/plain": [
       "<IPython.core.display.Javascript object>"
      ]
     },
     "metadata": {},
     "output_type": "display_data"
    }
   ],
   "source": [
    "%%javascript\n",
    "IPython.OutputArea.prototype._should_scroll = function(lines) {\n",
    "    return false;\n",
    "}"
   ]
  },
  {
   "cell_type": "code",
   "execution_count": 2,
   "metadata": {},
   "outputs": [],
   "source": [
    "# All the imports\n",
    "from ipywidgets import interact, interact_manual\n",
    "from IPython.core.display import display, HTML\n",
    "import ipywidgets as widgets\n",
    "import math\n",
    "\n",
    "import numpy as np\n",
    "                                                                                                                                                           \n",
    "import matplotlib\n",
    "import matplotlib.pyplot as plt\n"
   ]
  },
  {
   "cell_type": "code",
   "execution_count": 3,
   "metadata": {
    "scrolled": true
   },
   "outputs": [
    {
     "data": {
      "text/html": [
       "<style>.container { width:100% !important; }</style>"
      ],
      "text/plain": [
       "<IPython.core.display.HTML object>"
      ]
     },
     "metadata": {},
     "output_type": "display_data"
    },
    {
     "data": {
      "text/html": [
       "<script>\n",
       "code_show=true; \n",
       "function code_toggle() {\n",
       " if (code_show){\n",
       " $('div.input').hide();\n",
       " } else {\n",
       " $('div.input').show();\n",
       " }\n",
       " code_show = !code_show\n",
       "} \n",
       "$( document ).ready(code_toggle);\n",
       "</script>\n",
       "<form action=\"javascript:code_toggle()\"><input type=\"submit\" value=\"Click here to show the raw code.\"></form>"
      ],
      "text/plain": [
       "<IPython.core.display.HTML object>"
      ]
     },
     "execution_count": 3,
     "metadata": {},
     "output_type": "execute_result"
    }
   ],
   "source": [
    "# Adjust the display to full width\n",
    "display(HTML(\"<style>.container { width:100% !important; }</style>\"))\n",
    "\n",
    "# Hide all that code\n",
    "HTML('''<script>\n",
    "code_show=true; \n",
    "function code_toggle() {\n",
    " if (code_show){\n",
    " $('div.input').hide();\n",
    " } else {\n",
    " $('div.input').show();\n",
    " }\n",
    " code_show = !code_show\n",
    "} \n",
    "$( document ).ready(code_toggle);\n",
    "</script>\n",
    "<form action=\"javascript:code_toggle()\"><input type=\"submit\" value=\"Click here to show the raw code.\"></form>''')\n"
   ]
  },
  {
   "cell_type": "code",
   "execution_count": 4,
   "metadata": {},
   "outputs": [],
   "source": [
    "# Input widgets\n",
    "style = {'description_width': 'initial'}\n",
    "\n",
    "i_hpixels = widgets.BoundedIntText( min = 1, max = 999999999, value = 1280, description='Horizontal Pixels:', style=style )\n",
    "i_vpixels = widgets.BoundedIntText( min = 1, max = 999999999, value = 720,  description='Vertical Pixels:', style=style )\n",
    "i_pitch = widgets.BoundedFloatText( min=0.01, max=9999999, value=10, description='Pixel Pitch (µm):', style=style )\n",
    "i_fl = widgets.BoundedFloatText( min = 1, max = 10000, value = 50, description='Lens Focal Length (mm):', style=style )\n",
    "i_agl = widgets.BoundedFloatText( min = 0.001, max = 9999999999999, value = 450., description='AGL (m):', style=style )\n",
    "i_angle = widgets.BoundedFloatText( min = 0, max = 90, value = 45, description='Lookdown Angle (°):', style=style )"
   ]
  },
  {
   "cell_type": "code",
   "execution_count": 11,
   "metadata": {},
   "outputs": [],
   "source": [
    "def GroundIntercept(rotmatrix, offset, disttoground ):\n",
    "    rot = rotmatrix * offset\n",
    "    mag = math.sqrt((rot[0] ** 2) + (rot[1] ** 2) + (rot[2] ** 2))\n",
    "    alpha = ((rot[0])/mag).item(0)\n",
    "    beta = ((rot[1])/mag).item(0)\n",
    "    gamma = ((rot[2])/mag).item(0)\n",
    "    x = (disttoground * alpha)/gamma \n",
    "    y = (disttoground * beta)/gamma \n",
    "    z = disttoground\n",
    "    return (x,y,z), beta"
   ]
  },
  {
   "cell_type": "code",
   "execution_count": 41,
   "metadata": {},
   "outputs": [
    {
     "data": {
      "application/vnd.jupyter.widget-view+json": {
       "model_id": "df59052a967b4ec3b318dc765fb9f6c8",
       "version_major": 2,
       "version_minor": 0
      },
      "text/plain": [
       "interactive(children=(BoundedFloatText(value=10.0, description='Pixel Pitch (µm):', max=9999999.0, min=0.01, s…"
      ]
     },
     "metadata": {},
     "output_type": "display_data"
    }
   ],
   "source": [
    "def PrintAndCalc(pixelpitch_um, hpixels, vpixels, fl_mm, agl_m, lookdown_deg):\n",
    "    \n",
    "    lookdown_rad = -1 * math.radians(lookdown_deg)\n",
    "    \n",
    "    # CALCULATING SENSOR CHARACTERISTICS\n",
    "    fl_m = fl_mm / 1000\n",
    "    \n",
    "    pixelpitch_m = pixelpitch_um / 1000000\n",
    "    \n",
    "    ifov_rad = math.atan(pixelpitch_m/fl_m)\n",
    "    ifov_urad = ifov_rad * 1000000\n",
    "    \n",
    "    #gsd_cm = ifov_urad\n",
    "    \n",
    "    hfov_rad = ifov_rad * hpixels\n",
    "    vfov_rad = ifov_rad * vpixels\n",
    "    hfov_deg = math.degrees(hfov_rad)\n",
    "    vfov_deg = math.degrees(vfov_rad)\n",
    "    \n",
    "    sensor_width_mm = hpixels * pixelpitch_m * 1000\n",
    "    sensor_height_mm = vpixels * pixelpitch_m * 1000\n",
    "    sensor_diag_mm = math.sqrt(sensor_width_mm ** 2 + sensor_height_mm ** 2)\n",
    "    \n",
    "    optical_format_mm = sensor_diag_mm * 1.5\n",
    "    optical_format_inches = optical_format_mm * 0.0393701\n",
    "\n",
    "    print(f\"Lookdown Angle:         {lookdown_deg:.2f}°\")\n",
    "    print(f\"Sensor WxH:             {sensor_width_mm:.2f}mm x {sensor_height_mm:.2f}mm\" )\n",
    "    print(f\"Sensor Diagonal:        {sensor_diag_mm:.2f}mm\")\n",
    "    print(f\"Sensor Optical Format:  {optical_format_mm:.2f}mm, {optical_format_inches:.2f}\\\"\")\n",
    "    print(f\"IFOV:                   {ifov_urad:.2f}µrad\")\n",
    "    print(f\"FOV:                    {hfov_deg:.2f}° x {vfov_deg:.2f}°\")\n",
    "    print(\"\")\n",
    "    \n",
    "    #SETTING TOTAL TRACK DISTANCE FROM IMAGE FOCUS TO GROUND AS THE LEVER ARM FOR ROTATION.  FOCUS POINT ASSUMED TO BE THE CENTER POINT FOR ALL ROTATIONS\n",
    "    \n",
    "    disttoground = -1 * (agl_m + fl_m) \n",
    "    \n",
    "    # C = Center, T = Top, B = Bottom, R = Right, L = Left\n",
    "    \n",
    "    # Setting initial FPA center to look at flight forward\n",
    "    sensC = np.matrix([[0],[fl_mm],[0]])\n",
    "    sensTR = np.matrix([[(sensor_width_mm/-2)],[fl_mm],[(sensor_height_mm/2)]])\n",
    "    sensBR = np.matrix([[(sensor_width_mm/-2)],[fl_mm],[(sensor_height_mm/-2)]])\n",
    "    sensBL = np.matrix([[(sensor_width_mm/2)],[fl_mm],[(sensor_height_mm/-2)]])\n",
    "    sensTL = np.matrix([[(sensor_width_mm/2)],[fl_mm],[(sensor_height_mm/2)]])\n",
    "    sensR = np.matrix([[(sensor_width_mm/-2)],[fl_mm],[0]])\n",
    "    sensB = np.matrix([[0],[fl_mm],[(sensor_height_mm/-2)]])\n",
    "    sensL = np.matrix([[(sensor_width_mm/2)],[fl_mm],[0]])\n",
    "    sensT = np.matrix([[0],[fl_mm],[(sensor_height_mm/2)]])\n",
    "   \n",
    "    ###\n",
    "    # Calculating the master rotation matrix based on the lookdown angle\n",
    "    rotmatrix = np.matrix([[1, 0, 0], [0, math.cos(lookdown_rad), (-1 * math.sin(lookdown_rad))], [0, math.sin(lookdown_rad), math.cos(lookdown_rad)]])\n",
    "    \n",
    "    # Central ray\n",
    "    groundC,_ = GroundIntercept( rotmatrix, sensC, disttoground )\n",
    "      \n",
    "    # Corners\n",
    "    groundTR,_ = GroundIntercept( rotmatrix, sensTR, disttoground )\n",
    "    groundBR,_ = GroundIntercept( rotmatrix, sensBR, disttoground )\n",
    "    groundBL,_ = GroundIntercept( rotmatrix, sensBL, disttoground )\n",
    "    groundTL,_ = GroundIntercept( rotmatrix, sensTL, disttoground )\n",
    "    \n",
    "    # Mids\n",
    "    groundR,_ = GroundIntercept( rotmatrix, sensR, disttoground )\n",
    "    groundB,_ = GroundIntercept( rotmatrix, sensB, disttoground )\n",
    "    groundL,_ = GroundIntercept( rotmatrix, sensL, disttoground )\n",
    "    groundT, angleT = GroundIntercept( rotmatrix, sensT, disttoground )\n",
    "    \n",
    "    # Check for successful ground intercept before calling plots\n",
    "    vdownlook = ((-1*lookdown_rad) - (0.5*vfov_rad))\n",
    "    hdownlook = (0.5*hfov_rad)\n",
    "            \n",
    "    if vdownlook <= 0 or hdownlook <= 0 :\n",
    "        print('Not all points intercept ground - Sensor FOV is >180 degrees in at least one axis')\n",
    "    else:    \n",
    "        draw_plots( angleT, lookdown_rad, hfov_rad, vfov_rad, agl_m, groundC, groundBL, groundBR, groundTL, groundTR, groundR, groundT, groundL,groundB )\n",
    "\n",
    "        \n",
    "    #MAKE A NEW FUNCTION HERE JUST FOR SANITY THAT HITS THE 1/2 FOV VECTOR WITH THE ROTATION MATRIX TO DETERMINE THE REAL ANGLE OF INTERCEPTION DANGLE\n",
    "def draw_plots( betarotmidT, lookdown_rad, hfov_rad, vfov_rad, agl, center, bl, br, tl, tr, r, t, l, b ):\n",
    "        \n",
    "    far_width = abs(tr[0]-tl[0])\n",
    "    near_width = abs(br[0]-bl[0])\n",
    "    far_to_near = tr[1]-br[1]\n",
    "    middle_width = abs(l[0]-r[0])\n",
    "    front_back_length = abs(t[1]-b[1])\n",
    "\n",
    "    print(f\"Width at Bottom Frame:  {near_width:.1f}m\")\n",
    "    print(f\"Width at Mid Frame:     {middle_width:.1f}m\")\n",
    "    print(f\"Width at Top Frame:     {far_width:.1f}m\")\n",
    "    print(f\"Front to Back Length:   {front_back_length:.1f}m\")\n",
    "\n",
    "    leftlabel = (tl[1]+bl[1])/2\n",
    "    rightlabel = (tr[1]+br[1])/2\n",
    "    #print(f'Left Label is {leftlabel}')\n",
    "    #print(f'Right Label is {rightlabel}')\n",
    "    \n",
    "    # draw TopDown plot - TopDown is the y-intercept point from the frame of reference above\n",
    "    topdown_x=[]\n",
    "    topdown_y=[]\n",
    "       \n",
    "    #topdown_x = The x axis for the displayed graph, but is the y-axis coordinate in the matrix passed to this function\n",
    "    #topdown_y = The y axis for the displayed graph, but is the x-axis coordinate in the matrix passed to this function\n",
    "    topdown_x.append( bl[1] )\n",
    "    topdown_y.append( bl[0] )\n",
    "\n",
    "    topdown_x.append( br[1] )\n",
    "    topdown_y.append( br[0] )\n",
    "\n",
    "    topdown_x.append( tr[1] )\n",
    "    topdown_y.append( tr[0] )\n",
    "\n",
    "    topdown_x.append( tl[1] )\n",
    "    topdown_y.append( tl[0] )\n",
    "\n",
    "    topdown_x.append( bl[1] )\n",
    "    topdown_y.append( bl[0] )\n",
    "    \n",
    "    plt.title(\"Topdown View\")\n",
    "    plt.axis('equal')\n",
    "    plt.plot(topdown_x,topdown_y,  color=\"green\")\n",
    "    plt.plot([center[1]], [center[0]], marker='o', markersize=3, color=\"red\")\n",
    "\n",
    "    plt.plot( [r[1],l[1]],[r[0],l[0]], color=\"blue\")\n",
    "\n",
    "    plt.plot( [b[1],t[1]],[b[0],t[0]], color=\"yellow\")\n",
    "    \n",
    "    plt.text(bl[1], 0, f\"{near_width:.1f}\", va='center', ha='right', rotation='vertical' )\n",
    "    plt.text(tl[1], 0, f\"{far_width:.1f}\", va='center', ha='right', rotation='vertical' )\n",
    "    plt.text(center[1], 0, f\"{middle_width:.1f}\", va='center', ha='right', rotation='vertical' )\n",
    "    plt.text(center[1], 0, f\" {front_back_length:.1f}\", ha='left' )\n",
    "   \n",
    "    \n",
    "    # draw side plot\n",
    "    side_x=[]\n",
    "    side_y=[]\n",
    "    los_x=[]\n",
    "    los_y=[]\n",
    "    los_x.append( 0 )\n",
    "    los_y.append( agl )\n",
    "    \n",
    "    los_x.append( center[1] )\n",
    "    los_y.append( 0 )\n",
    "\n",
    "    side_x.append( 0 )\n",
    "    side_y.append( agl )\n",
    "    \n",
    "    side_x.append( tl[1] )\n",
    "    side_y.append( 0 )\n",
    "    \n",
    "    side_x.append( bl[1] )\n",
    "    side_y.append( 0 )\n",
    "    \n",
    "    side_x.append( 0 )\n",
    "    side_y.append( agl )\n",
    "    \n",
    "    plt.figure()\n",
    "    plt.title(\"Side View\")\n",
    "    plt.axis('equal')\n",
    "    # plot the swath\n",
    "    plt.plot(side_x,side_y, color=\"green\")\n",
    "    plt.plot([center[1]], [0], marker='o', markersize=3, color=\"red\")\n",
    "    plt.text(center[1], 0, f\"{far_to_near:.1f}\", va='center', ha='center' )\n",
    "\n",
    "    # Now calculating info needed to plot the heights\n",
    "    \n",
    "    # Finding the interior intersection angle - accomodating for the FOV of the sensor in this step - this midMA ray represents the intersection of the Y-axis as projected on the ground\n",
    "    \n",
    "    upperrayintangle_rad = (math.acos(betarotmidT))\n",
    "    \n",
    "    # Determining the edgeheight by using the tangent of the angle and the known far_to_near distance\n",
    "    \n",
    "    edgeheight = far_to_near * math.tan(upperrayintangle_rad)\n",
    "    \n",
    "    # This is logic to define what happens when the sensor looks past nadir on the lower side\n",
    "    if edgeheight > agl:\n",
    "        edgeheight = agl\n",
    "    \n",
    "    # Find far_to_center to determine the distance of the second, smaller triangle - once we have this can use the tangent relationship again with the same interior angle\n",
    "    \n",
    "    far_to_center = tl[1] - center[1]\n",
    "\n",
    "    # Now we can get the centerheight\n",
    "    simplelookdown = np.around(lookdown_rad, decimals=6)\n",
    "        \n",
    "    if simplelookdown == -1.570796:\n",
    "        centerheight = agl\n",
    "    else:\n",
    "        centerheight = far_to_center * math.tan(upperrayintangle_rad)\n",
    "    \n",
    "    print(f\"Height at Bottom:       {edgeheight:.1f}m\")\n",
    "    print(f\"Height at Center:       {centerheight:.1f}m\")\n",
    "\n",
    "    plt.plot( [bl[1],bl[1]],[0,edgeheight], color=\"blue\")\n",
    "    plt.plot( [center[1],center[1]],[0,centerheight], color=\"blue\")\n",
    "    plt.text( bl[1], edgeheight/2, \"{:.1f}\".format(edgeheight), va='center', ha='right', rotation='vertical' )\n",
    "    plt.text( center[1], centerheight/2, \"{:.1f}\".format(centerheight), va='center', ha='right', rotation='vertical' )\n",
    "    \n",
    "    plt.show()\n",
    "\n",
    "interact_manual( PrintAndCalc, pixelpitch_um=i_pitch, hpixels=i_hpixels, vpixels=i_vpixels, fl_mm=i_fl, agl_m=i_agl, lookdown_deg=i_angle );   \n"
   ]
  },
  {
   "cell_type": "code",
   "execution_count": null,
   "metadata": {},
   "outputs": [],
   "source": []
  },
  {
   "cell_type": "code",
   "execution_count": null,
   "metadata": {},
   "outputs": [],
   "source": []
  }
 ],
 "metadata": {
  "kernelspec": {
   "display_name": "Python 3",
   "language": "python",
   "name": "python3"
  },
  "language_info": {
   "codemirror_mode": {
    "name": "ipython",
    "version": 3
   },
   "file_extension": ".py",
   "mimetype": "text/x-python",
   "name": "python",
   "nbconvert_exporter": "python",
   "pygments_lexer": "ipython3",
   "version": "3.6.5"
  }
 },
 "nbformat": 4,
 "nbformat_minor": 2
}
